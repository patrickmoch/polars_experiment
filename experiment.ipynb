{
 "cells": [
  {
   "cell_type": "code",
   "execution_count": null,
   "id": "dfd47f49",
   "metadata": {},
   "outputs": [],
   "source": [
    "%load_ext autoreload\n",
    "%autoreload 2"
   ]
  },
  {
   "cell_type": "markdown",
   "id": "a3ce6453",
   "metadata": {},
   "source": [
    "Install requirements from file or user input\n"
   ]
  },
  {
   "cell_type": "code",
   "execution_count": null,
   "id": "14bd8c90",
   "metadata": {},
   "outputs": [],
   "source": [
    "%%bash\n",
    "\n",
    "#pip install pyspark polars pandas setuptools\n",
    "pip install -r requirements.txt"
   ]
  },
  {
   "cell_type": "code",
   "execution_count": null,
   "id": "0f17e6f3",
   "metadata": {},
   "outputs": [],
   "source": [
    "%%bash\n",
    "\n",
    "pip list"
   ]
  },
  {
   "cell_type": "code",
   "execution_count": null,
   "id": "f31432df",
   "metadata": {},
   "outputs": [],
   "source": [
    "from pyspark.sql import SparkSession\n",
    "\n",
    "# Create a Spark session\n",
    "spark = SparkSession.builder \\\n",
    ".appName(\"Polars experiment\") \\\n",
    ".getOrCreate()\n",
    "spark"
   ]
  },
  {
   "cell_type": "code",
   "execution_count": null,
   "id": "5c9bd401",
   "metadata": {},
   "outputs": [],
   "source": [
    "path = \"data/user-demographics.csv\"\n",
    "\n",
    "df_base = spark.read.option(\"delimiter\", \",\").option(\"header\", True).csv(path)\n",
    "#df_doubled = df_base.union(df_base)"
   ]
  },
  {
   "cell_type": "code",
   "execution_count": null,
   "id": "ff9f9c46",
   "metadata": {},
   "outputs": [],
   "source": [
    "df_base.show()"
   ]
  },
  {
   "cell_type": "code",
   "execution_count": null,
   "id": "77d25c2b",
   "metadata": {},
   "outputs": [],
   "source": [
    "df_base.count()\n",
    "#df_doubled.count()"
   ]
  },
  {
   "cell_type": "code",
   "execution_count": null,
   "id": "33adc0ca",
   "metadata": {},
   "outputs": [],
   "source": [
    "from datetime import datetime"
   ]
  },
  {
   "cell_type": "code",
   "execution_count": null,
   "id": "d76a7260",
   "metadata": {},
   "outputs": [],
   "source": [
    "start_time = datetime.now()\n",
    "end_time = datetime.now()\n",
    "print(f\"Time elapsed for processing: {end_time-start_time}\")\n"
   ]
  },
  {
   "cell_type": "markdown",
   "id": "f5f883fb",
   "metadata": {},
   "source": [
    "Experiment spark df to pandas df"
   ]
  },
  {
   "cell_type": "code",
   "execution_count": null,
   "id": "5a6e926c",
   "metadata": {},
   "outputs": [],
   "source": [
    "# Workaround for pyspark 3.5.x with python 3.12 while not supported yet\n",
    "import setuptools\n",
    "from distutils.version import LooseVersion"
   ]
  },
  {
   "cell_type": "code",
   "execution_count": null,
   "id": "a02c18d5",
   "metadata": {},
   "outputs": [],
   "source": [
    "import pandas as pd"
   ]
  },
  {
   "cell_type": "code",
   "execution_count": null,
   "id": "28679bca",
   "metadata": {},
   "outputs": [],
   "source": [
    "%%time\n",
    "start_time = datetime.now()\n",
    "\n",
    "pd_base = df_base.toPandas()\n",
    "\n",
    "end_time = datetime.now()\n",
    "print(f\"Time elapsed for processing spark to pandas df: {end_time-start_time}\")"
   ]
  },
  {
   "cell_type": "code",
   "execution_count": null,
   "id": "e123e6fe",
   "metadata": {},
   "outputs": [],
   "source": [
    "pd_base"
   ]
  },
  {
   "cell_type": "markdown",
   "id": "333db676",
   "metadata": {},
   "source": [
    "Generate Profile Report from Pandas Dataframe"
   ]
  },
  {
   "cell_type": "code",
   "execution_count": null,
   "id": "bc355829",
   "metadata": {},
   "outputs": [],
   "source": [
    "from ydata_profiling import ProfileReport"
   ]
  },
  {
   "cell_type": "code",
   "execution_count": null,
   "id": "7318ce1d",
   "metadata": {},
   "outputs": [],
   "source": [
    "%%time\n",
    "\n",
    "start_time = datetime.now()\n",
    "\n",
    "# Generate the profile report\n",
    "report = ProfileReport(pd_base, title=\"Profile Report\")\n",
    "\n",
    "end_time = datetime.now()\n",
    "print(f\"Time elapsed for processing Report: {end_time-start_time}\")"
   ]
  },
  {
   "cell_type": "code",
   "execution_count": null,
   "id": "797f8903",
   "metadata": {},
   "outputs": [],
   "source": [
    "report.to_notebook_iframe()"
   ]
  },
  {
   "cell_type": "code",
   "execution_count": null,
   "id": "9d4b0f7b",
   "metadata": {},
   "outputs": [],
   "source": [
    "import pyarrow as pa\n",
    "import polars as pl"
   ]
  },
  {
   "cell_type": "code",
   "execution_count": null,
   "id": "4ebf1b3d",
   "metadata": {},
   "outputs": [],
   "source": [
    "%%time\n",
    "arrow_temp = pa.Table.from_batches(df_base._collect_as_arrow())\n",
    "#pl lazy dataframe\n",
    "#df_polars = pl.scan_pyarrow_dataset(arrow_temp)\n",
    "# pl dataframe\n",
    "df_polars = pl.from_arrow(arrow_temp)\n"
   ]
  },
  {
   "cell_type": "markdown",
   "id": "6bf5d2f3",
   "metadata": {},
   "source": [
    "Experiment train kmeans model from polars lazy dataframe"
   ]
  },
  {
   "cell_type": "code",
   "execution_count": null,
   "id": "b395c099",
   "metadata": {},
   "outputs": [],
   "source": [
    "import numpy as np\n",
    "from sklearn.cluster import KMeans\n"
   ]
  },
  {
   "cell_type": "code",
   "execution_count": null,
   "id": "8eccb086",
   "metadata": {},
   "outputs": [],
   "source": [
    "df_polars.head()"
   ]
  },
  {
   "cell_type": "code",
   "execution_count": null,
   "id": "c9c66099",
   "metadata": {},
   "outputs": [],
   "source": [
    "df_polars = df_polars.drop(\"Town/City\",\"Country\")"
   ]
  },
  {
   "cell_type": "code",
   "execution_count": null,
   "id": "091bd08f",
   "metadata": {},
   "outputs": [],
   "source": [
    "# 1. Daten aus der Polars Tabelle extrahieren\n",
    "# Wir wählen die Features aus, die für das Clustering verwendet werden sollen\n",
    "#features = [\"feature_1\", \"feature_2\"]\n",
    "data_for_clustering = df_polars.to_numpy()\n",
    "df_polars\n"
   ]
  },
  {
   "cell_type": "code",
   "execution_count": null,
   "id": "57cc1c99",
   "metadata": {},
   "outputs": [],
   "source": [
    "# Alternativ, wenn Sie alle numerischen Spalten verwenden möchten:\n",
    "# numeric_cols = pl_df.select(pl.col(pl.Float64)).columns\n",
    "# data_for_clustering = pl_df.select(numeric_cols).to_numpy()\n",
    "\n",
    "# 2. KMeans-Modell initialisieren und trainieren\n",
    "n_clusters = 4  # Anzahl der gewünschten Cluster\n",
    "kmeans = KMeans(n_clusters=n_clusters, random_state=42, n_init='auto') # Empfohlen: Setzen Sie random_state für Reproduzierbarkeit\n",
    "kmeans.fit(data_for_clustering)\n",
    "\n"
   ]
  },
  {
   "cell_type": "code",
   "execution_count": null,
   "id": "0857ff25",
   "metadata": {},
   "outputs": [],
   "source": [
    "# 3. Clusterzuordnungen erhalten\n",
    "cluster_labels = kmeans.predict(data_for_clustering)\n",
    "\n"
   ]
  },
  {
   "cell_type": "code",
   "execution_count": null,
   "id": "4ffe47db",
   "metadata": {},
   "outputs": [],
   "source": [
    "# Die Cluster-Labels können Sie nun wieder zu Ihrer Polars Tabelle hinzufügen\n",
    "df_polars = df_polars.with_columns(pl.Series(\"cluster\", cluster_labels))\n",
    "\n",
    "print(df_polars)\n",
    "print(kmeans.cluster_centers_) # Anzeigen der Clusterzentroiden"
   ]
  },
  {
   "cell_type": "code",
   "execution_count": null,
   "id": "d2ec6b5e",
   "metadata": {},
   "outputs": [],
   "source": []
  }
 ],
 "metadata": {
  "kernelspec": {
   "display_name": ".venv",
   "language": "python",
   "name": "python3"
  },
  "language_info": {
   "codemirror_mode": {
    "name": "ipython",
    "version": 3
   },
   "file_extension": ".py",
   "mimetype": "text/x-python",
   "name": "python",
   "nbconvert_exporter": "python",
   "pygments_lexer": "ipython3",
   "version": "3.12.3"
  }
 },
 "nbformat": 4,
 "nbformat_minor": 5
}
