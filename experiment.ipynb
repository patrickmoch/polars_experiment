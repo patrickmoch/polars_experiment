{
 "cells": [
  {
   "cell_type": "code",
   "execution_count": 1,
   "id": "dfd47f49",
   "metadata": {},
   "outputs": [],
   "source": [
    "%load_ext autoreload\n",
    "%autoreload 2"
   ]
  },
  {
   "cell_type": "markdown",
   "id": "a3ce6453",
   "metadata": {},
   "source": [
    "Activate VENV\n"
   ]
  },
  {
   "cell_type": "code",
   "execution_count": 10,
   "id": "14bd8c90",
   "metadata": {},
   "outputs": [
    {
     "name": "stdout",
     "output_type": "stream",
     "text": [
      "Requirement already satisfied: pyspark in ./.venv/lib/python3.12/site-packages (3.5.5)\n",
      "Requirement already satisfied: polars in ./.venv/lib/python3.12/site-packages (1.27.1)\n",
      "Requirement already satisfied: pandas in ./.venv/lib/python3.12/site-packages (2.2.3)\n",
      "Collecting setuptools\n",
      "  Using cached setuptools-79.0.0-py3-none-any.whl.metadata (6.5 kB)\n",
      "Requirement already satisfied: py4j==0.10.9.7 in ./.venv/lib/python3.12/site-packages (from pyspark) (0.10.9.7)\n",
      "Requirement already satisfied: numpy>=1.26.0 in ./.venv/lib/python3.12/site-packages (from pandas) (2.2.5)\n",
      "Requirement already satisfied: python-dateutil>=2.8.2 in ./.venv/lib/python3.12/site-packages (from pandas) (2.9.0.post0)\n",
      "Requirement already satisfied: pytz>=2020.1 in ./.venv/lib/python3.12/site-packages (from pandas) (2025.2)\n",
      "Requirement already satisfied: tzdata>=2022.7 in ./.venv/lib/python3.12/site-packages (from pandas) (2025.2)\n",
      "Requirement already satisfied: six>=1.5 in ./.venv/lib/python3.12/site-packages (from python-dateutil>=2.8.2->pandas) (1.17.0)\n",
      "Using cached setuptools-79.0.0-py3-none-any.whl (1.3 MB)\n",
      "Installing collected packages: setuptools\n",
      "Successfully installed setuptools-79.0.0\n"
     ]
    }
   ],
   "source": [
    "%%bash\n",
    "\n",
    "pip install pyspark polars pandas setuptools"
   ]
  },
  {
   "cell_type": "code",
   "execution_count": 11,
   "id": "0f17e6f3",
   "metadata": {},
   "outputs": [
    {
     "name": "stdout",
     "output_type": "stream",
     "text": [
      "Package                 Version\n",
      "----------------------- -----------\n",
      "asttokens               3.0.0\n",
      "comm                    0.2.2\n",
      "debugpy                 1.8.14\n",
      "decorator               5.2.1\n",
      "executing               2.2.0\n",
      "ipykernel               6.29.5\n",
      "ipython                 9.1.0\n",
      "ipython_pygments_lexers 1.1.1\n",
      "jedi                    0.19.2\n",
      "jupyter_client          8.6.3\n",
      "jupyter_core            5.7.2\n",
      "matplotlib-inline       0.1.7\n",
      "nest-asyncio            1.6.0\n",
      "numpy                   2.2.5\n",
      "packaging               25.0\n",
      "pandas                  2.2.3\n",
      "parso                   0.8.4\n",
      "pexpect                 4.9.0\n",
      "pip                     25.0.1\n",
      "platformdirs            4.3.7\n",
      "polars                  1.27.1\n",
      "prompt_toolkit          3.0.51\n",
      "psutil                  7.0.0\n",
      "ptyprocess              0.7.0\n",
      "pure_eval               0.2.3\n",
      "py4j                    0.10.9.7\n",
      "Pygments                2.19.1\n",
      "pyspark                 3.5.5\n",
      "python-dateutil         2.9.0.post0\n",
      "pytz                    2025.2\n",
      "pyzmq                   26.4.0\n",
      "setuptools              79.0.0\n",
      "six                     1.17.0\n",
      "stack-data              0.6.3\n",
      "tornado                 6.4.2\n",
      "traitlets               5.14.3\n",
      "tzdata                  2025.2\n",
      "wcwidth                 0.2.13\n"
     ]
    }
   ],
   "source": [
    "%%bash\n",
    "\n",
    "pip list"
   ]
  },
  {
   "cell_type": "code",
   "execution_count": 4,
   "id": "f31432df",
   "metadata": {},
   "outputs": [
    {
     "name": "stderr",
     "output_type": "stream",
     "text": [
      "your 131072x1 screen size is bogus. expect trouble\n",
      "25/04/22 22:38:52 WARN Utils: Your hostname, DESKTOP-73AGGUC resolves to a loopback address: 127.0.1.1; using 172.19.139.222 instead (on interface eth0)\n",
      "25/04/22 22:38:52 WARN Utils: Set SPARK_LOCAL_IP if you need to bind to another address\n",
      "Setting default log level to \"WARN\".\n",
      "To adjust logging level use sc.setLogLevel(newLevel). For SparkR, use setLogLevel(newLevel).\n",
      "25/04/22 22:38:53 WARN NativeCodeLoader: Unable to load native-hadoop library for your platform... using builtin-java classes where applicable\n"
     ]
    },
    {
     "data": {
      "text/html": [
       "\n",
       "            <div>\n",
       "                <p><b>SparkSession - in-memory</b></p>\n",
       "                \n",
       "        <div>\n",
       "            <p><b>SparkContext</b></p>\n",
       "\n",
       "            <p><a href=\"http://172.19.139.222:4040\">Spark UI</a></p>\n",
       "\n",
       "            <dl>\n",
       "              <dt>Version</dt>\n",
       "                <dd><code>v3.5.5</code></dd>\n",
       "              <dt>Master</dt>\n",
       "                <dd><code>local[*]</code></dd>\n",
       "              <dt>AppName</dt>\n",
       "                <dd><code>Polars experiment</code></dd>\n",
       "            </dl>\n",
       "        </div>\n",
       "        \n",
       "            </div>\n",
       "        "
      ],
      "text/plain": [
       "<pyspark.sql.session.SparkSession at 0x7fce640fa690>"
      ]
     },
     "execution_count": 4,
     "metadata": {},
     "output_type": "execute_result"
    }
   ],
   "source": [
    "from pyspark.sql import SparkSession\n",
    "\n",
    "# Create a Spark session\n",
    "spark = SparkSession.builder \\\n",
    ".appName(\"Polars experiment\") \\\n",
    ".getOrCreate()\n",
    "spark"
   ]
  },
  {
   "cell_type": "code",
   "execution_count": null,
   "id": "5c9bd401",
   "metadata": {},
   "outputs": [],
   "source": [
    "path = \"data/user-demographics.csv\"\n",
    "\n",
    "df_base = spark.read.option(\"delimiter\", \",\").option(\"header\", True).csv(path)\n",
    "df_doubled = df_base.union(df_base)"
   ]
  },
  {
   "cell_type": "code",
   "execution_count": 14,
   "id": "ff9f9c46",
   "metadata": {},
   "outputs": [
    {
     "name": "stdout",
     "output_type": "stream",
     "text": [
      "+-------------+--------------+-----+---------+----------------+-------------------+-------------------------+-----------------------+-----------+\n",
      "|    Town/City|       Country|Users|New users|Engaged sessions|    Engagement rate|Engaged sessions per user|Average engagement time|Event count|\n",
      "+-------------+--------------+-----+---------+----------------+-------------------+-------------------------+-----------------------+-----------+\n",
      "|    Hyderabad|         India|75090|    71123|           81835| 0.5604676327973040|       1.0898255426821100|     132.49969370089200|     758313|\n",
      "|    Bengaluru|         India|74325|    72162|           84798| 0.5364585310305560|       1.1409081735620600|      138.7289875546590|     776356|\n",
      "|      Chennai|         India|54031|    51207|           55398| 0.5763720543099410|       1.0253002905739300|     120.58566378560500|     511249|\n",
      "|       Mumbai|         India|48323|    45147|           43751| 0.4837143994339290|       0.9053866688740350|     103.30254744117700|     422074|\n",
      "|         Pune|         India|44515|    41678|           45887| 0.5314009102384450|       1.0308210715489200|     119.91375940694100|     420101|\n",
      "|    (not set)|         India|33588|    29924|           32477| 0.5962364604369380|       0.9669227104918420|      132.0973859711800|     300806|\n",
      "|        Delhi|         India|30314|    28019|           31732|0.49629328411899000|       1.0467770667018500|     115.74912581645400|     288277|\n",
      "|   Coimbatore|         India|27287|    24822|           27660| 0.6196791827224660|        1.013669512954890|      113.2752959284640|     251437|\n",
      "|    Ahmedabad|         India|16247|    15430|           16775| 0.5486867497465080|        1.032498307379820|     120.12568474179800|     160169|\n",
      "|       Nagpur|         India|16177|    14560|           16997|  0.586244955678957|       1.0506892501699900|      118.6449898003340|     151611|\n",
      "|       London|United Kingdom|13180|    12340|           10176| 0.4648910411622280|       0.7720789074355080|      76.37594840667680|      95291|\n",
      "|       Indore|         India|12846|    12131|           12818| 0.5610610172459070|       0.9978203331776430|     119.22933208780900|     115032|\n",
      "|        Kochi|         India|11590|    10807|           13588| 0.5712363896245850|       1.1723899913718700|     150.88904227782600|     129797|\n",
      "|Visakhapatnam|         India|10760|     9518|           11202| 0.5875688434303700|       1.0410780669145000|     136.60771375464700|      99052|\n",
      "|      Lucknow|         India| 9971|     9547|            9943| 0.5625459688826030|       0.9971918563835120|     120.05134891184400|      88044|\n",
      "|      Kolkata|         India| 9496|     8860|            9696| 0.5310548800525800|         1.02106149957877|     119.32318871103600|      85469|\n",
      "|        Lagos|       Nigeria| 8009|     7589|            8410|0.47892938496583100|       1.0500686727431600|     151.19715320264700|      77043|\n",
      "|  Bhubaneswar|         India| 7936|     7483|            8446| 0.5297955087191070|       1.0642641129032300|     107.59652217741900|      73701|\n",
      "|       Jaipur|         India| 7907|     7547|            8192| 0.5142821269382890|       1.0360440116352600|     119.63766283040300|      76219|\n",
      "|     Istanbul|       Türkiye| 7895|     7616|            7523| 0.5116990885593800|       0.9528815706143130|      138.2008866371120|      82123|\n",
      "+-------------+--------------+-----+---------+----------------+-------------------+-------------------------+-----------------------+-----------+\n",
      "only showing top 20 rows\n",
      "\n"
     ]
    }
   ],
   "source": [
    "df_base.show()"
   ]
  },
  {
   "cell_type": "code",
   "execution_count": null,
   "id": "77d25c2b",
   "metadata": {},
   "outputs": [
    {
     "data": {
      "text/plain": [
       "10000"
      ]
     },
     "execution_count": 7,
     "metadata": {},
     "output_type": "execute_result"
    }
   ],
   "source": [
    "df_base.count()\n",
    "df_doubled.count()"
   ]
  },
  {
   "cell_type": "code",
   "execution_count": 8,
   "id": "33adc0ca",
   "metadata": {},
   "outputs": [],
   "source": [
    "from datetime import datetime"
   ]
  },
  {
   "cell_type": "code",
   "execution_count": 33,
   "id": "d76a7260",
   "metadata": {},
   "outputs": [
    {
     "name": "stdout",
     "output_type": "stream",
     "text": [
      "Time elapsed for processing: 0:00:00.000089\n"
     ]
    }
   ],
   "source": [
    "start_time = datetime.now()\n",
    "end_time = datetime.now()\n",
    "print(f\"Time elapsed for processing: {end_time-start_time}\")\n"
   ]
  },
  {
   "cell_type": "markdown",
   "id": "f5f883fb",
   "metadata": {},
   "source": [
    "Experiment spark df to pandas df"
   ]
  },
  {
   "cell_type": "code",
   "execution_count": null,
   "id": "5a6e926c",
   "metadata": {},
   "outputs": [],
   "source": [
    "# Workaround for pyspark 3.5.x with python 3.12 while not supported yet\n",
    "import setuptools\n",
    "from distutils.version import LooseVersion"
   ]
  },
  {
   "cell_type": "code",
   "execution_count": 13,
   "id": "a02c18d5",
   "metadata": {},
   "outputs": [],
   "source": [
    "import pandas as pd"
   ]
  },
  {
   "cell_type": "code",
   "execution_count": 18,
   "id": "28679bca",
   "metadata": {},
   "outputs": [
    {
     "name": "stdout",
     "output_type": "stream",
     "text": [
      "Time elapsed for processing spark to pandas df: 0:00:00.368881\n"
     ]
    }
   ],
   "source": [
    "start_time = datetime.now()\n",
    "\n",
    "pd_base = df_base.toPandas()\n",
    "\n",
    "end_time = datetime.now()\n",
    "print(f\"Time elapsed for processing spark to pandas df: {end_time-start_time}\")"
   ]
  },
  {
   "cell_type": "code",
   "execution_count": 23,
   "id": "e123e6fe",
   "metadata": {},
   "outputs": [
    {
     "data": {
      "text/html": [
       "<div>\n",
       "<style scoped>\n",
       "    .dataframe tbody tr th:only-of-type {\n",
       "        vertical-align: middle;\n",
       "    }\n",
       "\n",
       "    .dataframe tbody tr th {\n",
       "        vertical-align: top;\n",
       "    }\n",
       "\n",
       "    .dataframe thead th {\n",
       "        text-align: right;\n",
       "    }\n",
       "</style>\n",
       "<table border=\"1\" class=\"dataframe\">\n",
       "  <thead>\n",
       "    <tr style=\"text-align: right;\">\n",
       "      <th></th>\n",
       "      <th>Town/City</th>\n",
       "      <th>Country</th>\n",
       "      <th>Users</th>\n",
       "      <th>New users</th>\n",
       "      <th>Engaged sessions</th>\n",
       "      <th>Engagement rate</th>\n",
       "      <th>Engaged sessions per user</th>\n",
       "      <th>Average engagement time</th>\n",
       "      <th>Event count</th>\n",
       "    </tr>\n",
       "  </thead>\n",
       "  <tbody>\n",
       "    <tr>\n",
       "      <th>0</th>\n",
       "      <td>Hyderabad</td>\n",
       "      <td>India</td>\n",
       "      <td>75090</td>\n",
       "      <td>71123</td>\n",
       "      <td>81835</td>\n",
       "      <td>0.5604676327973040</td>\n",
       "      <td>1.0898255426821100</td>\n",
       "      <td>132.49969370089200</td>\n",
       "      <td>758313</td>\n",
       "    </tr>\n",
       "    <tr>\n",
       "      <th>1</th>\n",
       "      <td>Bengaluru</td>\n",
       "      <td>India</td>\n",
       "      <td>74325</td>\n",
       "      <td>72162</td>\n",
       "      <td>84798</td>\n",
       "      <td>0.5364585310305560</td>\n",
       "      <td>1.1409081735620600</td>\n",
       "      <td>138.7289875546590</td>\n",
       "      <td>776356</td>\n",
       "    </tr>\n",
       "    <tr>\n",
       "      <th>2</th>\n",
       "      <td>Chennai</td>\n",
       "      <td>India</td>\n",
       "      <td>54031</td>\n",
       "      <td>51207</td>\n",
       "      <td>55398</td>\n",
       "      <td>0.5763720543099410</td>\n",
       "      <td>1.0253002905739300</td>\n",
       "      <td>120.58566378560500</td>\n",
       "      <td>511249</td>\n",
       "    </tr>\n",
       "    <tr>\n",
       "      <th>3</th>\n",
       "      <td>Mumbai</td>\n",
       "      <td>India</td>\n",
       "      <td>48323</td>\n",
       "      <td>45147</td>\n",
       "      <td>43751</td>\n",
       "      <td>0.4837143994339290</td>\n",
       "      <td>0.9053866688740350</td>\n",
       "      <td>103.30254744117700</td>\n",
       "      <td>422074</td>\n",
       "    </tr>\n",
       "    <tr>\n",
       "      <th>4</th>\n",
       "      <td>Pune</td>\n",
       "      <td>India</td>\n",
       "      <td>44515</td>\n",
       "      <td>41678</td>\n",
       "      <td>45887</td>\n",
       "      <td>0.5314009102384450</td>\n",
       "      <td>1.0308210715489200</td>\n",
       "      <td>119.91375940694100</td>\n",
       "      <td>420101</td>\n",
       "    </tr>\n",
       "    <tr>\n",
       "      <th>...</th>\n",
       "      <td>...</td>\n",
       "      <td>...</td>\n",
       "      <td>...</td>\n",
       "      <td>...</td>\n",
       "      <td>...</td>\n",
       "      <td>...</td>\n",
       "      <td>...</td>\n",
       "      <td>...</td>\n",
       "      <td>...</td>\n",
       "    </tr>\n",
       "    <tr>\n",
       "      <th>4995</th>\n",
       "      <td>Chestermere</td>\n",
       "      <td>Canada</td>\n",
       "      <td>12</td>\n",
       "      <td>11</td>\n",
       "      <td>8</td>\n",
       "      <td>0.6153846153846150</td>\n",
       "      <td>0.6666666666666670</td>\n",
       "      <td>16.083333333333300</td>\n",
       "      <td>61</td>\n",
       "    </tr>\n",
       "    <tr>\n",
       "      <th>4996</th>\n",
       "      <td>Chilpancingo</td>\n",
       "      <td>Mexico</td>\n",
       "      <td>12</td>\n",
       "      <td>12</td>\n",
       "      <td>2</td>\n",
       "      <td>0.13333333333333300</td>\n",
       "      <td>0.16666666666666700</td>\n",
       "      <td>3.25</td>\n",
       "      <td>45</td>\n",
       "    </tr>\n",
       "    <tr>\n",
       "      <th>4997</th>\n",
       "      <td>Chokio</td>\n",
       "      <td>United States</td>\n",
       "      <td>12</td>\n",
       "      <td>9</td>\n",
       "      <td>5</td>\n",
       "      <td>0.3333333333333330</td>\n",
       "      <td>0.4166666666666670</td>\n",
       "      <td>18.916666666666700</td>\n",
       "      <td>50</td>\n",
       "    </tr>\n",
       "    <tr>\n",
       "      <th>4998</th>\n",
       "      <td>Chorley</td>\n",
       "      <td>United Kingdom</td>\n",
       "      <td>12</td>\n",
       "      <td>12</td>\n",
       "      <td>11</td>\n",
       "      <td>0.7857142857142860</td>\n",
       "      <td>0.9166666666666670</td>\n",
       "      <td>239.5</td>\n",
       "      <td>57</td>\n",
       "    </tr>\n",
       "    <tr>\n",
       "      <th>4999</th>\n",
       "      <td>Chorzow</td>\n",
       "      <td>Poland</td>\n",
       "      <td>12</td>\n",
       "      <td>12</td>\n",
       "      <td>9</td>\n",
       "      <td>0.6923076923076920</td>\n",
       "      <td>0.75</td>\n",
       "      <td>52.083333333333300</td>\n",
       "      <td>64</td>\n",
       "    </tr>\n",
       "  </tbody>\n",
       "</table>\n",
       "<p>5000 rows × 9 columns</p>\n",
       "</div>"
      ],
      "text/plain": [
       "         Town/City         Country  Users New users Engaged sessions  \\\n",
       "0        Hyderabad           India  75090     71123            81835   \n",
       "1        Bengaluru           India  74325     72162            84798   \n",
       "2          Chennai           India  54031     51207            55398   \n",
       "3           Mumbai           India  48323     45147            43751   \n",
       "4             Pune           India  44515     41678            45887   \n",
       "...            ...             ...    ...       ...              ...   \n",
       "4995   Chestermere          Canada     12        11                8   \n",
       "4996  Chilpancingo          Mexico     12        12                2   \n",
       "4997        Chokio   United States     12         9                5   \n",
       "4998       Chorley  United Kingdom     12        12               11   \n",
       "4999       Chorzow          Poland     12        12                9   \n",
       "\n",
       "          Engagement rate Engaged sessions per user Average engagement time  \\\n",
       "0      0.5604676327973040        1.0898255426821100      132.49969370089200   \n",
       "1      0.5364585310305560        1.1409081735620600       138.7289875546590   \n",
       "2      0.5763720543099410        1.0253002905739300      120.58566378560500   \n",
       "3      0.4837143994339290        0.9053866688740350      103.30254744117700   \n",
       "4      0.5314009102384450        1.0308210715489200      119.91375940694100   \n",
       "...                   ...                       ...                     ...   \n",
       "4995   0.6153846153846150        0.6666666666666670      16.083333333333300   \n",
       "4996  0.13333333333333300       0.16666666666666700                    3.25   \n",
       "4997   0.3333333333333330        0.4166666666666670      18.916666666666700   \n",
       "4998   0.7857142857142860        0.9166666666666670                   239.5   \n",
       "4999   0.6923076923076920                      0.75      52.083333333333300   \n",
       "\n",
       "     Event count  \n",
       "0         758313  \n",
       "1         776356  \n",
       "2         511249  \n",
       "3         422074  \n",
       "4         420101  \n",
       "...          ...  \n",
       "4995          61  \n",
       "4996          45  \n",
       "4997          50  \n",
       "4998          57  \n",
       "4999          64  \n",
       "\n",
       "[5000 rows x 9 columns]"
      ]
     },
     "execution_count": 23,
     "metadata": {},
     "output_type": "execute_result"
    }
   ],
   "source": [
    "pd_base"
   ]
  },
  {
   "cell_type": "code",
   "execution_count": null,
   "id": "7318ce1d",
   "metadata": {},
   "outputs": [],
   "source": []
  }
 ],
 "metadata": {
  "kernelspec": {
   "display_name": ".venv",
   "language": "python",
   "name": "python3"
  },
  "language_info": {
   "codemirror_mode": {
    "name": "ipython",
    "version": 3
   },
   "file_extension": ".py",
   "mimetype": "text/x-python",
   "name": "python",
   "nbconvert_exporter": "python",
   "pygments_lexer": "ipython3",
   "version": "3.12.3"
  }
 },
 "nbformat": 4,
 "nbformat_minor": 5
}
